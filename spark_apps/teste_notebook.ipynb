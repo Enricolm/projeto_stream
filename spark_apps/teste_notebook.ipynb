{
 "cells": [
  {
   "cell_type": "code",
   "execution_count": null,
   "id": "feaa69e1",
   "metadata": {},
   "outputs": [],
   "source": [
    "from pyspark.sql import SparkSession\n",
    "from pyspark.sql.functions import col, window,sum\n",
    "from pyspark.sql.types import StructType, StructField, StringType, IntegerType, TimestampType,LongType\n",
    "\n",
    "\n",
    "\n",
    "spark = SparkSession.builder \\\n",
    "    .appName(\"StreamPipeline\") \\\n",
    "    .master(\"spark://spark-master:7077\") \\\n",
    "    .getOrCreate()\n",
    "\n",
    "spark.sparkContext.setLogLevel(\"WARN\")\n",
    "\n",
    "schema = StructType([\n",
    "    StructField(\"nome\", StringType(), True),         \n",
    "    StructField(\"idade\", IntegerType(), True),       \n",
    "    StructField(\"cidade\", StringType(), True),         \n",
    "    StructField(\"timestamp\", TimestampType(), True), \n",
    "    StructField(\"valor_conta\", LongType(), True)     \n",
    "])\n",
    "\n",
    "df_stream_users = spark.readStream.options(delimiter=';',header= True).csv(\"/opt/spark/data/input_csv/input*\", schema = schema)\n",
    "\n",
    "df_users_filter = (\n",
    "    df_stream_users.filter(col('idade') < 40)\n",
    ")\n",
    "\n",
    "df_agg = df_users_filter \\\n",
    "    .withWatermark(\"timestamp\", \"1 minute\") \\\n",
    "    .groupBy(window(col(\"timestamp\"), \"1 minute\"), col(\"cidade\")) \\\n",
    "    .agg(sum(\"valor_conta\").alias(\"total_valor_conta\"))\n",
    "\n",
    "query_console = (df_agg.writeStream \\\n",
    "    .outputMode(\"append\") \\\n",
    "    .format(\"console\") \\\n",
    "    .option(\"truncate\", False) \\\n",
    "    .start()\n",
    ")\n",
    "\n",
    "query_parquet = (df_agg.writeStream.outputMode(\"append\").format(\"parquet\")\n",
    ".options(\n",
    "        path = f\"/opt/spark/data/output\",\n",
    "        checkpointLocation = f\"/opt/spark/data/checkpoint\"\n",
    "    ).start())\n",
    "\n",
    "\n",
    "query_console.awaitTermination()\n",
    "query_parquet.awaitTermination()\n"
   ]
  }
 ],
 "metadata": {
  "language_info": {
   "name": "python"
  }
 },
 "nbformat": 4,
 "nbformat_minor": 5
}
